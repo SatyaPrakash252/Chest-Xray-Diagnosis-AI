{
 "cells": [
  {
   "cell_type": "markdown",
   "id": "c818118b",
   "metadata": {},
   "source": [
    "Project Setup & Imports"
   ]
  },
  {
   "cell_type": "code",
   "execution_count": 3,
   "id": "9e2b86fd",
   "metadata": {},
   "outputs": [],
   "source": [
    "# Install required libraries (only once per environment)\n",
    "# !pip install numpy matplotlib tensorflow opencv-python scikit-learn\n",
    "\n",
    "import os\n",
    "import numpy as np\n",
    "import matplotlib.pyplot as plt\n",
    "import cv2\n",
    "import tensorflow as tf\n",
    "from tensorflow.keras import layers, models\n",
    "from sklearn.model_selection import train_test_split\n",
    "from PIL import Image\n"
   ]
  },
  {
   "cell_type": "markdown",
   "id": "aeb6b47d",
   "metadata": {},
   "source": [
    "Load and Preprocess the Dataset"
   ]
  },
  {
   "cell_type": "code",
   "execution_count": 5,
   "id": "de05bb61",
   "metadata": {},
   "outputs": [],
   "source": [
    "# Define data path\n",
    "train_dir = r\"C:\\Users\\satya\\Downloads\\archive\\chest_xray\\train\"\n",
    "\n",
    "# Load and resize images\n",
    "def load_images_from_folder(folder, label):\n",
    "    images = []\n",
    "    labels = []\n",
    "    for filename in os.listdir(folder):\n",
    "        img_path = os.path.join(folder, filename)\n",
    "        img = cv2.imread(img_path, cv2.IMREAD_GRAYSCALE)\n",
    "        if img is not None:\n",
    "            img = cv2.resize(img, (224, 224))  # Resize to fixed size\n",
    "            images.append(img)\n",
    "            labels.append(label)\n",
    "    return images, labels\n",
    "\n",
    "# Example: Load NORMAL and PNEUMONIA images\n",
    "normal_images, normal_labels = load_images_from_folder(os.path.join(train_dir, \"NORMAL\"), 0)\n",
    "pneumonia_images, pneumonia_labels = load_images_from_folder(os.path.join(train_dir, \"PNEUMONIA\"), 1)\n",
    "\n",
    "# Combine and normalize\n",
    "X = np.array(normal_images + pneumonia_images) / 255.0\n",
    "y = np.array(normal_labels + pneumonia_labels)\n",
    "\n",
    "X = X.reshape(-1, 224, 224, 1)  # Add channel dimension\n",
    "\n",
    "# Split data\n",
    "X_train, X_test, y_train, y_test = train_test_split(X, y, test_size=0.2, random_state=42)\n"
   ]
  },
  {
   "cell_type": "markdown",
   "id": "dc441aff",
   "metadata": {},
   "source": [
    "Define the CNN Model"
   ]
  },
  {
   "cell_type": "code",
   "execution_count": 6,
   "id": "db8fdafa",
   "metadata": {},
   "outputs": [
    {
     "name": "stderr",
     "output_type": "stream",
     "text": [
      "c:\\Users\\satya\\OneDrive\\Desktop\\Chest X-Ray Diagnosis Using CNN\\chestx_env\\Lib\\site-packages\\keras\\src\\layers\\convolutional\\base_conv.py:113: UserWarning: Do not pass an `input_shape`/`input_dim` argument to a layer. When using Sequential models, prefer using an `Input(shape)` object as the first layer in the model instead.\n",
      "  super().__init__(activity_regularizer=activity_regularizer, **kwargs)\n"
     ]
    },
    {
     "data": {
      "text/html": [
       "<pre style=\"white-space:pre;overflow-x:auto;line-height:normal;font-family:Menlo,'DejaVu Sans Mono',consolas,'Courier New',monospace\"><span style=\"font-weight: bold\">Model: \"sequential\"</span>\n",
       "</pre>\n"
      ],
      "text/plain": [
       "\u001b[1mModel: \"sequential\"\u001b[0m\n"
      ]
     },
     "metadata": {},
     "output_type": "display_data"
    },
    {
     "data": {
      "text/html": [
       "<pre style=\"white-space:pre;overflow-x:auto;line-height:normal;font-family:Menlo,'DejaVu Sans Mono',consolas,'Courier New',monospace\">┏━━━━━━━━━━━━━━━━━━━━━━━━━━━━━━━━━┳━━━━━━━━━━━━━━━━━━━━━━━━┳━━━━━━━━━━━━━━━┓\n",
       "┃<span style=\"font-weight: bold\"> Layer (type)                    </span>┃<span style=\"font-weight: bold\"> Output Shape           </span>┃<span style=\"font-weight: bold\">       Param # </span>┃\n",
       "┡━━━━━━━━━━━━━━━━━━━━━━━━━━━━━━━━━╇━━━━━━━━━━━━━━━━━━━━━━━━╇━━━━━━━━━━━━━━━┩\n",
       "│ conv2d (<span style=\"color: #0087ff; text-decoration-color: #0087ff\">Conv2D</span>)                 │ (<span style=\"color: #00d7ff; text-decoration-color: #00d7ff\">None</span>, <span style=\"color: #00af00; text-decoration-color: #00af00\">222</span>, <span style=\"color: #00af00; text-decoration-color: #00af00\">222</span>, <span style=\"color: #00af00; text-decoration-color: #00af00\">32</span>)   │           <span style=\"color: #00af00; text-decoration-color: #00af00\">320</span> │\n",
       "├─────────────────────────────────┼────────────────────────┼───────────────┤\n",
       "│ max_pooling2d (<span style=\"color: #0087ff; text-decoration-color: #0087ff\">MaxPooling2D</span>)    │ (<span style=\"color: #00d7ff; text-decoration-color: #00d7ff\">None</span>, <span style=\"color: #00af00; text-decoration-color: #00af00\">111</span>, <span style=\"color: #00af00; text-decoration-color: #00af00\">111</span>, <span style=\"color: #00af00; text-decoration-color: #00af00\">32</span>)   │             <span style=\"color: #00af00; text-decoration-color: #00af00\">0</span> │\n",
       "├─────────────────────────────────┼────────────────────────┼───────────────┤\n",
       "│ conv2d_1 (<span style=\"color: #0087ff; text-decoration-color: #0087ff\">Conv2D</span>)               │ (<span style=\"color: #00d7ff; text-decoration-color: #00d7ff\">None</span>, <span style=\"color: #00af00; text-decoration-color: #00af00\">109</span>, <span style=\"color: #00af00; text-decoration-color: #00af00\">109</span>, <span style=\"color: #00af00; text-decoration-color: #00af00\">64</span>)   │        <span style=\"color: #00af00; text-decoration-color: #00af00\">18,496</span> │\n",
       "├─────────────────────────────────┼────────────────────────┼───────────────┤\n",
       "│ max_pooling2d_1 (<span style=\"color: #0087ff; text-decoration-color: #0087ff\">MaxPooling2D</span>)  │ (<span style=\"color: #00d7ff; text-decoration-color: #00d7ff\">None</span>, <span style=\"color: #00af00; text-decoration-color: #00af00\">54</span>, <span style=\"color: #00af00; text-decoration-color: #00af00\">54</span>, <span style=\"color: #00af00; text-decoration-color: #00af00\">64</span>)     │             <span style=\"color: #00af00; text-decoration-color: #00af00\">0</span> │\n",
       "├─────────────────────────────────┼────────────────────────┼───────────────┤\n",
       "│ conv2d_2 (<span style=\"color: #0087ff; text-decoration-color: #0087ff\">Conv2D</span>)               │ (<span style=\"color: #00d7ff; text-decoration-color: #00d7ff\">None</span>, <span style=\"color: #00af00; text-decoration-color: #00af00\">52</span>, <span style=\"color: #00af00; text-decoration-color: #00af00\">52</span>, <span style=\"color: #00af00; text-decoration-color: #00af00\">128</span>)    │        <span style=\"color: #00af00; text-decoration-color: #00af00\">73,856</span> │\n",
       "├─────────────────────────────────┼────────────────────────┼───────────────┤\n",
       "│ max_pooling2d_2 (<span style=\"color: #0087ff; text-decoration-color: #0087ff\">MaxPooling2D</span>)  │ (<span style=\"color: #00d7ff; text-decoration-color: #00d7ff\">None</span>, <span style=\"color: #00af00; text-decoration-color: #00af00\">26</span>, <span style=\"color: #00af00; text-decoration-color: #00af00\">26</span>, <span style=\"color: #00af00; text-decoration-color: #00af00\">128</span>)    │             <span style=\"color: #00af00; text-decoration-color: #00af00\">0</span> │\n",
       "├─────────────────────────────────┼────────────────────────┼───────────────┤\n",
       "│ flatten (<span style=\"color: #0087ff; text-decoration-color: #0087ff\">Flatten</span>)               │ (<span style=\"color: #00d7ff; text-decoration-color: #00d7ff\">None</span>, <span style=\"color: #00af00; text-decoration-color: #00af00\">86528</span>)          │             <span style=\"color: #00af00; text-decoration-color: #00af00\">0</span> │\n",
       "├─────────────────────────────────┼────────────────────────┼───────────────┤\n",
       "│ dense (<span style=\"color: #0087ff; text-decoration-color: #0087ff\">Dense</span>)                   │ (<span style=\"color: #00d7ff; text-decoration-color: #00d7ff\">None</span>, <span style=\"color: #00af00; text-decoration-color: #00af00\">128</span>)            │    <span style=\"color: #00af00; text-decoration-color: #00af00\">11,075,712</span> │\n",
       "├─────────────────────────────────┼────────────────────────┼───────────────┤\n",
       "│ dense_1 (<span style=\"color: #0087ff; text-decoration-color: #0087ff\">Dense</span>)                 │ (<span style=\"color: #00d7ff; text-decoration-color: #00d7ff\">None</span>, <span style=\"color: #00af00; text-decoration-color: #00af00\">1</span>)              │           <span style=\"color: #00af00; text-decoration-color: #00af00\">129</span> │\n",
       "└─────────────────────────────────┴────────────────────────┴───────────────┘\n",
       "</pre>\n"
      ],
      "text/plain": [
       "┏━━━━━━━━━━━━━━━━━━━━━━━━━━━━━━━━━┳━━━━━━━━━━━━━━━━━━━━━━━━┳━━━━━━━━━━━━━━━┓\n",
       "┃\u001b[1m \u001b[0m\u001b[1mLayer (type)                   \u001b[0m\u001b[1m \u001b[0m┃\u001b[1m \u001b[0m\u001b[1mOutput Shape          \u001b[0m\u001b[1m \u001b[0m┃\u001b[1m \u001b[0m\u001b[1m      Param #\u001b[0m\u001b[1m \u001b[0m┃\n",
       "┡━━━━━━━━━━━━━━━━━━━━━━━━━━━━━━━━━╇━━━━━━━━━━━━━━━━━━━━━━━━╇━━━━━━━━━━━━━━━┩\n",
       "│ conv2d (\u001b[38;5;33mConv2D\u001b[0m)                 │ (\u001b[38;5;45mNone\u001b[0m, \u001b[38;5;34m222\u001b[0m, \u001b[38;5;34m222\u001b[0m, \u001b[38;5;34m32\u001b[0m)   │           \u001b[38;5;34m320\u001b[0m │\n",
       "├─────────────────────────────────┼────────────────────────┼───────────────┤\n",
       "│ max_pooling2d (\u001b[38;5;33mMaxPooling2D\u001b[0m)    │ (\u001b[38;5;45mNone\u001b[0m, \u001b[38;5;34m111\u001b[0m, \u001b[38;5;34m111\u001b[0m, \u001b[38;5;34m32\u001b[0m)   │             \u001b[38;5;34m0\u001b[0m │\n",
       "├─────────────────────────────────┼────────────────────────┼───────────────┤\n",
       "│ conv2d_1 (\u001b[38;5;33mConv2D\u001b[0m)               │ (\u001b[38;5;45mNone\u001b[0m, \u001b[38;5;34m109\u001b[0m, \u001b[38;5;34m109\u001b[0m, \u001b[38;5;34m64\u001b[0m)   │        \u001b[38;5;34m18,496\u001b[0m │\n",
       "├─────────────────────────────────┼────────────────────────┼───────────────┤\n",
       "│ max_pooling2d_1 (\u001b[38;5;33mMaxPooling2D\u001b[0m)  │ (\u001b[38;5;45mNone\u001b[0m, \u001b[38;5;34m54\u001b[0m, \u001b[38;5;34m54\u001b[0m, \u001b[38;5;34m64\u001b[0m)     │             \u001b[38;5;34m0\u001b[0m │\n",
       "├─────────────────────────────────┼────────────────────────┼───────────────┤\n",
       "│ conv2d_2 (\u001b[38;5;33mConv2D\u001b[0m)               │ (\u001b[38;5;45mNone\u001b[0m, \u001b[38;5;34m52\u001b[0m, \u001b[38;5;34m52\u001b[0m, \u001b[38;5;34m128\u001b[0m)    │        \u001b[38;5;34m73,856\u001b[0m │\n",
       "├─────────────────────────────────┼────────────────────────┼───────────────┤\n",
       "│ max_pooling2d_2 (\u001b[38;5;33mMaxPooling2D\u001b[0m)  │ (\u001b[38;5;45mNone\u001b[0m, \u001b[38;5;34m26\u001b[0m, \u001b[38;5;34m26\u001b[0m, \u001b[38;5;34m128\u001b[0m)    │             \u001b[38;5;34m0\u001b[0m │\n",
       "├─────────────────────────────────┼────────────────────────┼───────────────┤\n",
       "│ flatten (\u001b[38;5;33mFlatten\u001b[0m)               │ (\u001b[38;5;45mNone\u001b[0m, \u001b[38;5;34m86528\u001b[0m)          │             \u001b[38;5;34m0\u001b[0m │\n",
       "├─────────────────────────────────┼────────────────────────┼───────────────┤\n",
       "│ dense (\u001b[38;5;33mDense\u001b[0m)                   │ (\u001b[38;5;45mNone\u001b[0m, \u001b[38;5;34m128\u001b[0m)            │    \u001b[38;5;34m11,075,712\u001b[0m │\n",
       "├─────────────────────────────────┼────────────────────────┼───────────────┤\n",
       "│ dense_1 (\u001b[38;5;33mDense\u001b[0m)                 │ (\u001b[38;5;45mNone\u001b[0m, \u001b[38;5;34m1\u001b[0m)              │           \u001b[38;5;34m129\u001b[0m │\n",
       "└─────────────────────────────────┴────────────────────────┴───────────────┘\n"
      ]
     },
     "metadata": {},
     "output_type": "display_data"
    },
    {
     "data": {
      "text/html": [
       "<pre style=\"white-space:pre;overflow-x:auto;line-height:normal;font-family:Menlo,'DejaVu Sans Mono',consolas,'Courier New',monospace\"><span style=\"font-weight: bold\"> Total params: </span><span style=\"color: #00af00; text-decoration-color: #00af00\">11,168,513</span> (42.60 MB)\n",
       "</pre>\n"
      ],
      "text/plain": [
       "\u001b[1m Total params: \u001b[0m\u001b[38;5;34m11,168,513\u001b[0m (42.60 MB)\n"
      ]
     },
     "metadata": {},
     "output_type": "display_data"
    },
    {
     "data": {
      "text/html": [
       "<pre style=\"white-space:pre;overflow-x:auto;line-height:normal;font-family:Menlo,'DejaVu Sans Mono',consolas,'Courier New',monospace\"><span style=\"font-weight: bold\"> Trainable params: </span><span style=\"color: #00af00; text-decoration-color: #00af00\">11,168,513</span> (42.60 MB)\n",
       "</pre>\n"
      ],
      "text/plain": [
       "\u001b[1m Trainable params: \u001b[0m\u001b[38;5;34m11,168,513\u001b[0m (42.60 MB)\n"
      ]
     },
     "metadata": {},
     "output_type": "display_data"
    },
    {
     "data": {
      "text/html": [
       "<pre style=\"white-space:pre;overflow-x:auto;line-height:normal;font-family:Menlo,'DejaVu Sans Mono',consolas,'Courier New',monospace\"><span style=\"font-weight: bold\"> Non-trainable params: </span><span style=\"color: #00af00; text-decoration-color: #00af00\">0</span> (0.00 B)\n",
       "</pre>\n"
      ],
      "text/plain": [
       "\u001b[1m Non-trainable params: \u001b[0m\u001b[38;5;34m0\u001b[0m (0.00 B)\n"
      ]
     },
     "metadata": {},
     "output_type": "display_data"
    }
   ],
   "source": [
    "model = models.Sequential([\n",
    "    layers.Conv2D(32, (3, 3), activation='relu', input_shape=(224, 224, 1)),\n",
    "    layers.MaxPooling2D((2, 2)),\n",
    "    \n",
    "    layers.Conv2D(64, (3, 3), activation='relu'),\n",
    "    layers.MaxPooling2D((2, 2)),\n",
    "    \n",
    "    layers.Conv2D(128, (3, 3), activation='relu'),\n",
    "    layers.MaxPooling2D((2, 2)),\n",
    "    \n",
    "    layers.Flatten(),\n",
    "    layers.Dense(128, activation='relu'),\n",
    "    layers.Dense(1, activation='sigmoid')\n",
    "])\n",
    "\n",
    "model.compile(optimizer='adam',\n",
    "              loss='binary_crossentropy',\n",
    "              metrics=['accuracy'])\n",
    "\n",
    "model.summary()\n"
   ]
  },
  {
   "cell_type": "markdown",
   "id": "0dde2cd3",
   "metadata": {},
   "source": [
    "Train the Model"
   ]
  },
  {
   "cell_type": "code",
   "execution_count": 7,
   "id": "c906e811",
   "metadata": {},
   "outputs": [
    {
     "name": "stdout",
     "output_type": "stream",
     "text": [
      "Epoch 1/10\n",
      "\u001b[1m105/105\u001b[0m \u001b[32m━━━━━━━━━━━━━━━━━━━━\u001b[0m\u001b[37m\u001b[0m \u001b[1m67s\u001b[0m 619ms/step - accuracy: 0.8136 - loss: 0.4349 - val_accuracy: 0.9389 - val_loss: 0.1718\n",
      "Epoch 2/10\n",
      "\u001b[1m105/105\u001b[0m \u001b[32m━━━━━━━━━━━━━━━━━━━━\u001b[0m\u001b[37m\u001b[0m \u001b[1m63s\u001b[0m 604ms/step - accuracy: 0.9641 - loss: 0.1082 - val_accuracy: 0.9581 - val_loss: 0.1227\n",
      "Epoch 3/10\n",
      "\u001b[1m105/105\u001b[0m \u001b[32m━━━━━━━━━━━━━━━━━━━━\u001b[0m\u001b[37m\u001b[0m \u001b[1m61s\u001b[0m 582ms/step - accuracy: 0.9625 - loss: 0.0937 - val_accuracy: 0.9653 - val_loss: 0.1214\n",
      "Epoch 4/10\n",
      "\u001b[1m105/105\u001b[0m \u001b[32m━━━━━━━━━━━━━━━━━━━━\u001b[0m\u001b[37m\u001b[0m \u001b[1m63s\u001b[0m 596ms/step - accuracy: 0.9756 - loss: 0.0586 - val_accuracy: 0.9449 - val_loss: 0.2063\n",
      "Epoch 5/10\n",
      "\u001b[1m105/105\u001b[0m \u001b[32m━━━━━━━━━━━━━━━━━━━━\u001b[0m\u001b[37m\u001b[0m \u001b[1m62s\u001b[0m 591ms/step - accuracy: 0.9735 - loss: 0.0650 - val_accuracy: 0.9509 - val_loss: 0.1842\n",
      "Epoch 6/10\n",
      "\u001b[1m105/105\u001b[0m \u001b[32m━━━━━━━━━━━━━━━━━━━━\u001b[0m\u001b[37m\u001b[0m \u001b[1m63s\u001b[0m 596ms/step - accuracy: 0.9869 - loss: 0.0340 - val_accuracy: 0.9425 - val_loss: 0.2046\n",
      "Epoch 7/10\n",
      "\u001b[1m105/105\u001b[0m \u001b[32m━━━━━━━━━━━━━━━━━━━━\u001b[0m\u001b[37m\u001b[0m \u001b[1m63s\u001b[0m 599ms/step - accuracy: 0.9811 - loss: 0.0463 - val_accuracy: 0.9689 - val_loss: 0.1346\n",
      "Epoch 8/10\n",
      "\u001b[1m105/105\u001b[0m \u001b[32m━━━━━━━━━━━━━━━━━━━━\u001b[0m\u001b[37m\u001b[0m \u001b[1m63s\u001b[0m 600ms/step - accuracy: 0.9942 - loss: 0.0149 - val_accuracy: 0.9653 - val_loss: 0.1658\n",
      "Epoch 9/10\n",
      "\u001b[1m105/105\u001b[0m \u001b[32m━━━━━━━━━━━━━━━━━━━━\u001b[0m\u001b[37m\u001b[0m \u001b[1m63s\u001b[0m 599ms/step - accuracy: 0.9939 - loss: 0.0168 - val_accuracy: 0.9653 - val_loss: 0.1573\n",
      "Epoch 10/10\n",
      "\u001b[1m105/105\u001b[0m \u001b[32m━━━━━━━━━━━━━━━━━━━━\u001b[0m\u001b[37m\u001b[0m \u001b[1m61s\u001b[0m 579ms/step - accuracy: 0.9952 - loss: 0.0122 - val_accuracy: 0.9641 - val_loss: 0.2253\n"
     ]
    }
   ],
   "source": [
    "history = model.fit(X_train, y_train, epochs=10, validation_split=0.2)\n"
   ]
  },
  {
   "cell_type": "code",
   "execution_count": 10,
   "id": "1ac96c5a",
   "metadata": {},
   "outputs": [
    {
     "ename": "NameError",
     "evalue": "name 'X_train' is not defined",
     "output_type": "error",
     "traceback": [
      "\u001b[31m---------------------------------------------------------------------------\u001b[39m",
      "\u001b[31mNameError\u001b[39m                                 Traceback (most recent call last)",
      "\u001b[36mCell\u001b[39m\u001b[36m \u001b[39m\u001b[32mIn[10]\u001b[39m\u001b[32m, line 1\u001b[39m\n\u001b[32m----> \u001b[39m\u001b[32m1\u001b[39m history = model.fit(\u001b[43mX_train\u001b[49m, y_train, validation_data=(X_val, y_val), epochs=\u001b[32m10\u001b[39m, batch_size=\u001b[32m32\u001b[39m)\n",
      "\u001b[31mNameError\u001b[39m: name 'X_train' is not defined"
     ]
    }
   ],
   "source": [
    "history = model.fit(X_train, y_train, validation_data=(X_val, y_val), epochs=10, batch_size=32)"
   ]
  },
  {
   "cell_type": "markdown",
   "id": "eac7b837",
   "metadata": {},
   "source": [
    "Evaluate the Model"
   ]
  },
  {
   "cell_type": "code",
   "execution_count": 8,
   "id": "16446d42",
   "metadata": {},
   "outputs": [
    {
     "name": "stdout",
     "output_type": "stream",
     "text": [
      "\u001b[1m33/33\u001b[0m \u001b[32m━━━━━━━━━━━━━━━━━━━━\u001b[0m\u001b[37m\u001b[0m \u001b[1m5s\u001b[0m 154ms/step - accuracy: 0.9653 - loss: 0.1413\n",
      "Test Accuracy: 0.9703\n"
     ]
    }
   ],
   "source": [
    "test_loss, test_acc = model.evaluate(X_test, y_test)\n",
    "print(f\"Test Accuracy: {test_acc:.4f}\")\n"
   ]
  },
  {
   "cell_type": "markdown",
   "id": "b500c776",
   "metadata": {},
   "source": [
    "Save the Model"
   ]
  },
  {
   "cell_type": "code",
   "execution_count": 9,
   "id": "225bf4d9",
   "metadata": {},
   "outputs": [
    {
     "name": "stderr",
     "output_type": "stream",
     "text": [
      "WARNING:absl:You are saving your model as an HDF5 file via `model.save()` or `keras.saving.save_model(model)`. This file format is considered legacy. We recommend using instead the native Keras format, e.g. `model.save('my_model.keras')` or `keras.saving.save_model(model, 'my_model.keras')`. \n"
     ]
    }
   ],
   "source": [
    "model.save(\"chest_xray_model.h5\")\n"
   ]
  },
  {
   "cell_type": "markdown",
   "id": "9dde572a",
   "metadata": {},
   "source": [
    "Confusion Matrix & Classification Report"
   ]
  },
  {
   "cell_type": "code",
   "execution_count": 11,
   "id": "343de2bd",
   "metadata": {},
   "outputs": [
    {
     "name": "stdout",
     "output_type": "stream",
     "text": [
      "\u001b[1m33/33\u001b[0m \u001b[32m━━━━━━━━━━━━━━━━━━━━\u001b[0m\u001b[37m\u001b[0m \u001b[1m6s\u001b[0m 165ms/step\n"
     ]
    },
    {
     "data": {
      "image/png": "[encoded data removed]",
      "text/plain": [
       "<Figure size 640x480 with 2 Axes>"
      ]
     },
     "metadata": {},
     "output_type": "display_data"
    },
    {
     "name": "stdout",
     "output_type": "stream",
     "text": [
      "              precision    recall  f1-score   support\n",
      "\n",
      "           0       0.95      0.94      0.95       287\n",
      "           1       0.98      0.98      0.98       757\n",
      "\n",
      "    accuracy                           0.97      1044\n",
      "   macro avg       0.97      0.96      0.96      1044\n",
      "weighted avg       0.97      0.97      0.97      1044\n",
      "\n"
     ]
    }
   ],
   "source": [
    "from sklearn.metrics import classification_report, confusion_matrix\n",
    "import seaborn as sns\n",
    "import matplotlib.pyplot as plt\n",
    "\n",
    "# Predict classes\n",
    "y_pred = model.predict(X_test)\n",
    "y_pred_classes = (y_pred > 0.5).astype(\"int32\")\n",
    "\n",
    "# Confusion matrix\n",
    "cm = confusion_matrix(y_test, y_pred_classes)\n",
    "sns.heatmap(cm, annot=True, fmt=\"d\", cmap=\"Blues\")\n",
    "plt.xlabel('Predicted')\n",
    "plt.ylabel('Actual')\n",
    "plt.title('Confusion Matrix')\n",
    "plt.show()\n",
    "\n",
    "# Classification report\n",
    "print(classification_report(y_test, y_pred_classes))\n"
   ]
  },
  {
   "cell_type": "markdown",
   "id": "dbca52db",
   "metadata": {},
   "source": [
    "Save and Load Your Model"
   ]
  },
  {
   "cell_type": "code",
   "execution_count": null,
   "id": "d4191ac9",
   "metadata": {},
   "outputs": [],
   "source": [
    "# Save\n",
    "model.save(\"xray_cnn_model.h5\")\n",
    "\n",
    "# Load\n",
    "from tensorflow.keras.models import load_model\n",
    "model = load_model(\"xray_cnn_model.h5\")\n"
   ]
  },
  {
   "cell_type": "markdown",
   "id": "03d0548d",
   "metadata": {},
   "source": [
    "Test on New X-ray Image (Real-World Test)"
   ]
  },
  {
   "cell_type": "code",
   "execution_count": null,
   "id": "74f708a1",
   "metadata": {},
   "outputs": [],
   "source": [
    "from tensorflow.keras.preprocessing import image\n",
    "import numpy as np\n",
    "\n",
    "# Load image\n",
    "img = image.load_img(r\"C:\\Users\\satya\\Downloads\\normalXray.jpg\", target_size=(222, 222))\n",
    "img_array = image.img_to_array(img)\n",
    "img_array = np.expand_dims(img_array, axis=0) / 255.0  # Normalize\n",
    "\n",
    "# Predict\n",
    "prediction = model.predict(img_array)\n",
    "print(\"Prediction (0: Normal, 1: Pneumonia):\", int(prediction[0][0] > 0.5))\n"
   ]
  },
  {
   "cell_type": "markdown",
   "id": "aa763d6b",
   "metadata": {},
   "source": [
    "Code for Accuracy/Loss Graph"
   ]
  },
  {
   "cell_type": "code",
   "execution_count": null,
   "id": "1fd66a34",
   "metadata": {},
   "outputs": [],
   "source": [
    "import matplotlib.pyplot as plt\n",
    "\n",
    "# Assuming you have history object from model.fit()\n",
    "plt.figure(figsize=(12,5))\n",
    "\n",
    "# Accuracy\n",
    "plt.subplot(1,2,1)\n",
    "plt.plot(history.history['accuracy'], label='Train Accuracy')\n",
    "plt.plot(history.history['val_accuracy'], label='Val Accuracy')\n",
    "plt.title('Model Accuracy')\n",
    "plt.xlabel('Epoch')\n",
    "plt.ylabel('Accuracy')\n",
    "plt.legend()\n",
    "\n",
    "# Loss\n",
    "plt.subplot(1,2,2)\n",
    "plt.plot(history.history['loss'], label='Train Loss')\n",
    "plt.plot(history.history['val_loss'], label='Val Loss')\n",
    "plt.title('Model Loss')\n",
    "plt.xlabel('Epoch')\n",
    "plt.ylabel('Loss')\n",
    "plt.legend()\n",
    "\n",
    "plt.tight_layout()\n",
    "plt.show()\n"
   ]
  },
  {
   "cell_type": "markdown",
   "id": "1cab3b5a",
   "metadata": {},
   "source": [
    "Load Required Libraries"
   ]
  },
  {
   "cell_type": "code",
   "execution_count": 3,
   "id": "230ed335",
   "metadata": {},
   "outputs": [],
   "source": [
    "import tkinter as tk\n",
    "from tkinter import filedialog, messagebox\n",
    "from PIL import Image, ImageTk\n",
    "import numpy as np\n",
    "import cv2\n",
    "import tensorflow as tf\n"
   ]
  },
  {
   "cell_type": "code",
   "execution_count": 4,
   "id": "aa1604cd",
   "metadata": {},
   "outputs": [
    {
     "ename": "NameError",
     "evalue": "name 'Image' is not defined",
     "output_type": "error",
     "traceback": [
      "\u001b[31m---------------------------------------------------------------------------\u001b[39m",
      "\u001b[31mNameError\u001b[39m                                 Traceback (most recent call last)",
      "\u001b[36mCell\u001b[39m\u001b[36m \u001b[39m\u001b[32mIn[4]\u001b[39m\u001b[32m, line 1\u001b[39m\n\u001b[32m----> \u001b[39m\u001b[32m1\u001b[39m img = \u001b[43mImage\u001b[49m.open(img_path).convert(\u001b[33m'\u001b[39m\u001b[33mL\u001b[39m\u001b[33m'\u001b[39m)  \u001b[38;5;66;03m# Converts any image to grayscale\u001b[39;00m\n",
      "\u001b[31mNameError\u001b[39m: name 'Image' is not defined"
     ]
    }
   ],
   "source": [
    "img = Image.open(img_path).convert('L')  # Converts any image to grayscale\n"
   ]
  },
  {
   "cell_type": "markdown",
   "id": "6425c060",
   "metadata": {},
   "source": [
    "Load Your Trained Model"
   ]
  },
  {
   "cell_type": "code",
   "execution_count": 5,
   "id": "33ebe2a6",
   "metadata": {},
   "outputs": [
    {
     "name": "stderr",
     "output_type": "stream",
     "text": [
      "WARNING:absl:Compiled the loaded model, but the compiled metrics have yet to be built. `model.compile_metrics` will be empty until you train or evaluate the model.\n"
     ]
    }
   ],
   "source": [
    "# Load the trained model\n",
    "model = tf.keras.models.load_model(\"chest_xray_model.h5\")  # Replace with your actual model file path\n"
   ]
  },
  {
   "cell_type": "markdown",
   "id": "ff734dfd",
   "metadata": {},
   "source": [
    "Define Prediction Function"
   ]
  },
  {
   "cell_type": "code",
   "execution_count": 6,
   "id": "821b0856",
   "metadata": {},
   "outputs": [],
   "source": [
    "def predict_image(image_path):\n",
    "    img = cv2.imread(image_path)\n",
    "    img = cv2.resize(img, (224, 224))  # Resize to match training input\n",
    "    img_array = img / 255.0\n",
    "    img_array = np.expand_dims(img_array, axis=0)\n",
    "    prediction = model.predict(img_array)\n",
    "    return \"Pneumonia Detected\" if prediction[0][0] > 0.5 else \"Normal\"\n"
   ]
  },
  {
   "cell_type": "markdown",
   "id": "8f97a03f",
   "metadata": {},
   "source": [
    "Basic Static Chat Response"
   ]
  },
  {
   "cell_type": "code",
   "execution_count": 7,
   "id": "30eaacc6",
   "metadata": {},
   "outputs": [],
   "source": [
    "def chatbot_response(user_input):\n",
    "    responses = {\n",
    "        \"what should i do\": \"Please consult a doctor immediately. Drink plenty of fluids and get rest.\",\n",
    "        \"how to cure pneumonia\": \"Treatment includes antibiotics, rest, and sometimes hospitalization.\",\n",
    "        \"is it dangerous\": \"Pneumonia can be serious. Early detection and treatment are important.\"\n",
    "    }\n",
    "    user_input = user_input.lower()\n",
    "    return responses.get(user_input, \"Sorry, I can only answer basic questions about pneumonia right now.\")\n"
   ]
  },
  {
   "cell_type": "markdown",
   "id": "2b901001",
   "metadata": {},
   "source": [
    "Tkinter UI in Notebook"
   ]
  },
  {
   "cell_type": "code",
   "execution_count": 1,
   "id": "399e69be",
   "metadata": {},
   "outputs": [
    {
     "name": "stderr",
     "output_type": "stream",
     "text": [
      "WARNING:absl:Compiled the loaded model, but the compiled metrics have yet to be built. `model.compile_metrics` will be empty until you train or evaluate the model.\n"
     ]
    },
    {
     "name": "stdout",
     "output_type": "stream",
     "text": [
      "\u001b[1m1/1\u001b[0m \u001b[32m━━━━━━━━━━━━━━━━━━━━\u001b[0m\u001b[37m\u001b[0m \u001b[1m0s\u001b[0m 435ms/step\n",
      "\u001b[1m1/1\u001b[0m \u001b[32m━━━━━━━━━━━━━━━━━━━━\u001b[0m\u001b[37m\u001b[0m \u001b[1m0s\u001b[0m 42ms/step\n",
      "\u001b[1m1/1\u001b[0m \u001b[32m━━━━━━━━━━━━━━━━━━━━\u001b[0m\u001b[37m\u001b[0m \u001b[1m0s\u001b[0m 44ms/step\n",
      "\u001b[1m1/1\u001b[0m \u001b[32m━━━━━━━━━━━━━━━━━━━━\u001b[0m\u001b[37m\u001b[0m \u001b[1m0s\u001b[0m 51ms/step\n",
      "\u001b[1m1/1\u001b[0m \u001b[32m━━━━━━━━━━━━━━━━━━━━\u001b[0m\u001b[37m\u001b[0m \u001b[1m0s\u001b[0m 35ms/step\n",
      "\u001b[1m1/1\u001b[0m \u001b[32m━━━━━━━━━━━━━━━━━━━━\u001b[0m\u001b[37m\u001b[0m \u001b[1m0s\u001b[0m 38ms/step\n",
      "\u001b[1m1/1\u001b[0m \u001b[32m━━━━━━━━━━━━━━━━━━━━\u001b[0m\u001b[37m\u001b[0m \u001b[1m0s\u001b[0m 36ms/step\n",
      "\u001b[1m1/1\u001b[0m \u001b[32m━━━━━━━━━━━━━━━━━━━━\u001b[0m\u001b[37m\u001b[0m \u001b[1m0s\u001b[0m 34ms/step\n",
      "\u001b[1m1/1\u001b[0m \u001b[32m━━━━━━━━━━━━━━━━━━━━\u001b[0m\u001b[37m\u001b[0m \u001b[1m0s\u001b[0m 35ms/step\n"
     ]
    },
    {
     "ename": "KeyboardInterrupt",
     "evalue": "",
     "output_type": "error",
     "traceback": [
      "\u001b[31m---------------------------------------------------------------------------\u001b[39m",
      "\u001b[31mKeyboardInterrupt\u001b[39m                         Traceback (most recent call last)",
      "\u001b[36mCell\u001b[39m\u001b[36m \u001b[39m\u001b[32mIn[1]\u001b[39m\u001b[32m, line 133\u001b[39m\n\u001b[32m    129\u001b[39m \u001b[38;5;66;03m# ------------------------------------------------------------------------------\u001b[39;00m\n\u001b[32m    130\u001b[39m \u001b[38;5;66;03m# 5️⃣ Run Application\u001b[39;00m\n\u001b[32m    131\u001b[39m \u001b[38;5;66;03m# ------------------------------------------------------------------------------\u001b[39;00m\n\u001b[32m    132\u001b[39m \u001b[38;5;28;01mif\u001b[39;00m \u001b[34m__name__\u001b[39m == \u001b[33m\"\u001b[39m\u001b[33m__main__\u001b[39m\u001b[33m\"\u001b[39m:\n\u001b[32m--> \u001b[39m\u001b[32m133\u001b[39m     \u001b[43mlaunch_interface\u001b[49m\u001b[43m(\u001b[49m\u001b[43m)\u001b[49m\n",
      "\u001b[36mCell\u001b[39m\u001b[36m \u001b[39m\u001b[32mIn[1]\u001b[39m\u001b[32m, line 126\u001b[39m, in \u001b[36mlaunch_interface\u001b[39m\u001b[34m()\u001b[39m\n\u001b[32m    121\u001b[39m send_button = tk.Button(chat_frame, text=\u001b[33m'\u001b[39m\u001b[33mSend\u001b[39m\u001b[33m'\u001b[39m,\n\u001b[32m    122\u001b[39m                             font=(\u001b[33m'\u001b[39m\u001b[33mHelvetica\u001b[39m\u001b[33m'\u001b[39m, \u001b[32m12\u001b[39m), command=send_message)\n\u001b[32m    123\u001b[39m send_button.grid(row=\u001b[32m0\u001b[39m, column=\u001b[32m1\u001b[39m, padx=\u001b[32m5\u001b[39m)\n\u001b[32m--> \u001b[39m\u001b[32m126\u001b[39m \u001b[43mroot\u001b[49m\u001b[43m.\u001b[49m\u001b[43mmainloop\u001b[49m\u001b[43m(\u001b[49m\u001b[43m)\u001b[49m\n",
      "\u001b[36mFile \u001b[39m\u001b[32mC:\\Program Files\\Python312\\Lib\\tkinter\\__init__.py:1505\u001b[39m, in \u001b[36mMisc.mainloop\u001b[39m\u001b[34m(self, n)\u001b[39m\n\u001b[32m   1503\u001b[39m \u001b[38;5;28;01mdef\u001b[39;00m\u001b[38;5;250m \u001b[39m\u001b[34mmainloop\u001b[39m(\u001b[38;5;28mself\u001b[39m, n=\u001b[32m0\u001b[39m):\n\u001b[32m   1504\u001b[39m \u001b[38;5;250m    \u001b[39m\u001b[33;03m\"\"\"Call the mainloop of Tk.\"\"\"\u001b[39;00m\n\u001b[32m-> \u001b[39m\u001b[32m1505\u001b[39m     \u001b[38;5;28;43mself\u001b[39;49m\u001b[43m.\u001b[49m\u001b[43mtk\u001b[49m\u001b[43m.\u001b[49m\u001b[43mmainloop\u001b[49m\u001b[43m(\u001b[49m\u001b[43mn\u001b[49m\u001b[43m)\u001b[49m\n",
      "\u001b[31mKeyboardInterrupt\u001b[39m: "
     ]
    }
   ],
   "source": [
    "import tkinter as tk\n",
    "from tkinter import filedialog, messagebox\n",
    "from PIL import Image, ImageTk\n",
    "import tensorflow as tf\n",
    "import numpy as np\n",
    "import subprocess\n",
    "\n",
    "\n",
    "# ------------------------------------------------------------------------------\n",
    "# 1️⃣ Loading Model\n",
    "# ------------------------------------------------------------------------------\n",
    "model = tf.keras.models.load_model(\"chest_xray_model.h5\")  # Update path if needed\n",
    "\n",
    "\n",
    "# ------------------------------------------------------------------------------\n",
    "# 2️⃣ Image Prediction\n",
    "# ------------------------------------------------------------------------------\n",
    "def predict_image(file_path):\n",
    "    \"\"\"Perform Pneumonia Detection with trained Model.\"\"\"\n",
    "    img = Image.open(file_path).convert('L')  # Grayscale\n",
    "    img = img.resize((224, 224))\n",
    "    img_array = np.array(img).reshape(1, 224, 224, 1) / 255.0\n",
    "    prediction = model.predict(img_array)\n",
    "    return \"Pneumonia\" if prediction[0][0] > 0.5 else \"Normal\"\n",
    "\n",
    "\n",
    "# ------------------------------------------------------------------------------\n",
    "# 3️⃣ Ollama Chatbot (Real-Time) \n",
    "# ------------------------------------------------------------------------------\n",
    "def chatbot_response(user_msg):\n",
    "    \"\"\"Get response from Ollama chatbot in real time.\"\"\"\n",
    "    try:\n",
    "        response = subprocess.check_output(\n",
    "            ['ollama', 'run', 'llama2'], \n",
    "            input=user_msg.encode(), \n",
    "            stderr=subprocess.DEVNULL\n",
    "        )\n",
    "        return response.decode().strip()\n",
    "    except Exception as e:\n",
    "        return f\"Error communicating with Ollama: {str(e)}\"\n",
    "\n",
    "\n",
    "# ------------------------------------------------------------------------------\n",
    "# 4️⃣ GUI Application with Modern UI\n",
    "# ------------------------------------------------------------------------------\n",
    "def launch_interface():\n",
    "    \"\"\"Launch GUI application for Pneumonia Detection with Ollama Chatbot.\"\"\"\n",
    "    root = tk.Tk()\n",
    "    root.title(\"🫁 Chest X-Ray Pneumonia Detection\")\n",
    "    root.config(bg='#edf0f5')\n",
    "    root.geometry(\"700x600\")\n",
    "\n",
    "    # ------------------------------------------------------------------------------\n",
    "    # File upload functionality\n",
    "    # ------------------------------------------------------------------------------\n",
    "    def upload_image():\n",
    "        \"\"\"Select and predict on a new X-ray image.\"\"\"\n",
    "        file_path = filedialog.askopenfilename(filetypes=[(\"Image files\", \"*.jpg *.png *.jpeg\")])\n",
    "        if not file_path:\n",
    "            return\n",
    "        try:\n",
    "            result = predict_image(file_path)\n",
    "            result_label.config(text=f\"Analysis result: {result}\",\n",
    "                                fg='green' if result == \"Normal\" else 'red')\n",
    "            if result == \"Pneumonia\":\n",
    "                chat_entry.config(state='normal')\n",
    "                send_button.config(state='normal')\n",
    "            else:\n",
    "                chat_entry.config(state='disabled')\n",
    "                send_button.config(state='disabled')\n",
    "        except Exception as e:\n",
    "            messagebox.showerror(\"Error\", f\"Unable to process image:\\n{str(e)}\")\n",
    "\n",
    "    # ------------------------------------------------------------------------------\n",
    "    # Send message to chatbot\n",
    "    # ------------------------------------------------------------------------------\n",
    "    def send_message():\n",
    "        \"\"\"Send message to chatbot and show response.\"\"\"\n",
    "        user_msg = chat_entry.get().strip()\n",
    "        if not user_msg:\n",
    "            return\n",
    "\n",
    "        response = chatbot_response(user_msg)\n",
    "        chat_output.config(state='normal')\n",
    "        chat_output.insert(tk.END, f'👤 You: {user_msg}\\n🤖 Bot: {response}\\n\\n')\n",
    "        chat_output.config(state='disabled')\n",
    "        chat_output.see(tk.END)\n",
    "\n",
    "        chat_entry.delete(0, tk.END)\n",
    "\n",
    "\n",
    "    # ------------------------------------------------------------------------------\n",
    "    # UI elements\n",
    "    # ------------------------------------------------------------------------------\n",
    "    header = tk.Label(root, text='🫁 Chest X-Ray Pneumonia Detection',\n",
    "                       font=('Helvetica', 18, 'bold'), bg='#edf0f5', fg='#334155')\n",
    "    header.pack(pady=20)\n",
    "\n",
    "    upload_button = tk.Button(root, text='Select X-Ray Image',\n",
    "                                command=upload_image,\n",
    "                                font=('Helvetica', 12), bg='#9333EA',\n",
    "                                fg='white', pady=10)\n",
    "    upload_button.pack()\n",
    "\n",
    "    result_label = tk.Label(root, text='', font=('Helvetica', 14), bg='#edf0f5')\n",
    "    result_label.pack(pady=20)\n",
    "\n",
    "    chat_label = tk.Label(root, text='Chat with Ollama!', font=('Helvetica', 12, 'bold'), bg='#edf0f5')\n",
    "    chat_label.pack()\n",
    "\n",
    "    chat_output = tk.Text(root, height=10, width=60, state='disabled',\n",
    "                           font=('Helvetica', 12), wrap='word')\n",
    "    chat_output.pack(pady=10)\n",
    "\n",
    "    chat_frame = tk.Frame(root, bg='#edf0f5')\n",
    "    chat_frame.pack(pady=5)\n",
    "\n",
    "    chat_entry = tk.Entry(chat_frame, width=50, font=('Helvetica', 12))\n",
    "    chat_entry.grid(row=0, column=0, padx=5)\n",
    "\n",
    "    send_button = tk.Button(chat_frame, text='Send',\n",
    "                                font=('Helvetica', 12), command=send_message)\n",
    "    send_button.grid(row=0, column=1, padx=5)\n",
    "\n",
    "\n",
    "    root.mainloop()\n",
    "\n",
    "\n",
    "# ------------------------------------------------------------------------------\n",
    "# 5️⃣ Run Application\n",
    "# ------------------------------------------------------------------------------\n",
    "if __name__ == \"__main__\":\n",
    "    launch_interface()\n"
   ]
  }
 ],
 "metadata": {
  "kernelspec": {
   "display_name": "chestx_env",
   "language": "python",
   "name": "python3"
  },
  "language_info": {
   "codemirror_mode": {
    "name": "ipython",
    "version": 3
   },
   "file_extension": ".py",
   "mimetype": "text/x-python",
   "name": "python",
   "nbconvert_exporter": "python",
   "pygments_lexer": "ipython3",
   "version": "3.12.5"
  }
 },
 "nbformat": 4,
 "nbformat_minor": 5
}
